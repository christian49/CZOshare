{
 "cells": [
  {
   "cell_type": "code",
   "execution_count": 1,
   "metadata": {},
   "outputs": [],
   "source": [
    "import pandas as pd\n",
    "import re\n",
    "pd.set_option('display.max_colwidth', 500)\n",
    "pd.set_option('display.max_rows', 4000)\n",
    "pd.set_option('display.max_columns', 100)"
   ]
  },
  {
   "cell_type": "code",
   "execution_count": 2,
   "metadata": {},
   "outputs": [],
   "source": [
    "df = pd.read_csv(\"/home/christian/Downloads/czo-datasets-metadata-2018-03-01c.csv\")\n",
    "key = df['VARIABLES']\n",
    "czo_id = df['czo_id']\n",
    "keys = []\n",
    "for i in range(0,len(key)):\n",
    "    row = key[i].split('|')\n",
    "        \n",
    "    for j in range(0, len(row)):\n",
    "\n",
    "        k = row[j].lower()\n",
    "        \n",
    "        startingSpacesRemoved = re.sub('\\s*$','',k)\n",
    "        endingSpacesRemoved = re.sub('^\\s*','',startingSpacesRemoved)\n",
    "        cleanString = re.sub('[^a-zA-Z\\s]+','',endingSpacesRemoved)  \n",
    "        \n",
    "        keys.append((cleanString,czo_id[i]))"
   ]
  },
  {
   "cell_type": "code",
   "execution_count": 3,
   "metadata": {},
   "outputs": [],
   "source": [
    "d1 = {}\n",
    "d2 = []\n",
    "seen=set()\n",
    "count = 0\n",
    "for i in range(len(keys)):\n",
    "    word = keys[i]\n",
    "    if word[0] not in seen:\n",
    "        seen.add(word[0])\n",
    "        \n",
    "        for j in range(len(keys)):\n",
    "            a_duplicate = keys[j][0]\n",
    "            if (word[0] == a_duplicate):\n",
    "                count += 1   \n",
    "        d2.append(word)\n",
    "        d1[word] = count\n",
    "        count =0\n",
    "        \n",
    "d_sorted1 = sorted(d1.items(), key=lambda x: (-x[1], x[0]))"
   ]
  },
  {
   "cell_type": "code",
   "execution_count": 4,
   "metadata": {},
   "outputs": [],
   "source": [
    "seenList = sorted(seen)\n",
    "\n",
    "with open('variablesOnly.txt','w') as f:\n",
    "    f.write('\\n'.join('%s' % x for x in seenList))"
   ]
  },
  {
   "cell_type": "code",
   "execution_count": 5,
   "metadata": {},
   "outputs": [],
   "source": [
    "#Run this to create a txt file and store the list\n",
    "d2=sorted(d2)\n",
    "with open('variables\\wczo_id.txt', 'w') as fp:\n",
    "    fp.write('\\n'.join('%s %s' % x for x in d2))"
   ]
  }
 ],
 "metadata": {
  "kernelspec": {
   "display_name": "Python 2",
   "language": "python",
   "name": "python2"
  },
  "language_info": {
   "codemirror_mode": {
    "name": "ipython",
    "version": 2
   },
   "file_extension": ".py",
   "mimetype": "text/x-python",
   "name": "python",
   "nbconvert_exporter": "python",
   "pygments_lexer": "ipython2",
   "version": "2.7.12"
  }
 },
 "nbformat": 4,
 "nbformat_minor": 2
}
