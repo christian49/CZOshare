{
 "cells": [
  {
   "cell_type": "code",
   "execution_count": 10,
   "metadata": {},
   "outputs": [],
   "source": [
    "import pandas as pd\n",
    "pd.set_option('display.max_colwidth', 500)\n",
    "pd.set_option('display.max_rows', 4000)\n",
    "pd.set_option('display.max_columns', 100)"
   ]
  },
  {
   "cell_type": "code",
   "execution_count": 66,
   "metadata": {},
   "outputs": [],
   "source": [
    "variablesTable = []\n",
    "\n",
    "def fil_table(original, filtered):\n",
    "    variable = {}\n",
    "    variable[\"original\"]=original\n",
    "    variable[\"filtered\"] = filtered\n",
    "    add_variable(variable)\n",
    "\n",
    "def add_variable(variable):\n",
    "  variablesTable.append(variable)"
   ]
  },
  {
   "cell_type": "code",
   "execution_count": 20,
   "metadata": {},
   "outputs": [],
   "source": [
    "df = pd.read_csv(\"/home/christian/Downloads/czo-datasets-metadata-2018-03-01c.csv\")\n",
    "key = df['VARIABLES']\n",
    "keys = []\n",
    "for i in range(0,len(key)):\n",
    "    row = key[i].split('|')\n",
    "    for j in range(0, len(row)):\n",
    "        k = row[j].lower()\n",
    "        k = k.replace(\"-\", \"\")\n",
    "        k = k.replace(\"#\", \"\")\n",
    "        k = k.replace(\" \", \"\")\n",
    "        k = k.replace(\"\\t\",\"\")\n",
    "        k = k.replace(\"(m)\",\"\")\n",
    "        k = k.replace(\"_\", \"\")\n",
    "        keys.append(k)"
   ]
  },
  {
   "cell_type": "code",
   "execution_count": 46,
   "metadata": {},
   "outputs": [],
   "source": [
    "d1 = {}\n",
    "seen=set()\n",
    "count = 0\n",
    "for i in range(len(keys)):\n",
    "    word = keys[i]\n",
    "    if word not in seen:\n",
    "        seen.add(word)\n",
    "        \n",
    "        for j in range(len(keys)):\n",
    "            a_duplicate = keys[j]\n",
    "            if (word == a_duplicate):\n",
    "                count += 1   \n",
    "\n",
    "        d1[word] = count\n",
    "        count =0\n",
    "        \n",
    "d_sorted1 = sorted(d1.items(), key=lambda x: (-x[1], x[0]))"
   ]
  },
  {
   "cell_type": "code",
   "execution_count": 68,
   "metadata": {},
   "outputs": [],
   "source": [
    "dictionar = [{'original':'calcium(g)', 'filtered':'calcium', 'removed':'(g)'},\n",
    "             {'original':'airtemperature(k)', 'filtered':'airtemperature', 'removed':'(k)'}]\n",
    "fil_table('calcium(g)', 'calcium')\n",
    "fil_table('Air Temperature(K)','airtemperature')\n"
   ]
  },
  {
   "cell_type": "code",
   "execution_count": 69,
   "metadata": {},
   "outputs": [],
   "source": [
    "seenList = list(seen)\n",
    "\n",
    "with open('variablesOnly.txt','w') as f:\n",
    "    f.write('\\n'.join('%s' % x for x in seenList))"
   ]
  },
  {
   "cell_type": "code",
   "execution_count": 70,
   "metadata": {},
   "outputs": [
    {
     "data": {
      "text/html": [
       "<div>\n",
       "<style scoped>\n",
       "    .dataframe tbody tr th:only-of-type {\n",
       "        vertical-align: middle;\n",
       "    }\n",
       "\n",
       "    .dataframe tbody tr th {\n",
       "        vertical-align: top;\n",
       "    }\n",
       "\n",
       "    .dataframe thead th {\n",
       "        text-align: right;\n",
       "    }\n",
       "</style>\n",
       "<table border=\"1\" class=\"dataframe\">\n",
       "  <thead>\n",
       "    <tr style=\"text-align: right;\">\n",
       "      <th></th>\n",
       "      <th>filtered</th>\n",
       "      <th>original</th>\n",
       "    </tr>\n",
       "  </thead>\n",
       "  <tbody>\n",
       "    <tr>\n",
       "      <th>0</th>\n",
       "      <td>calcium</td>\n",
       "      <td>calcium(g)</td>\n",
       "    </tr>\n",
       "    <tr>\n",
       "      <th>1</th>\n",
       "      <td>airtemperature</td>\n",
       "      <td>Air Temperature(K)</td>\n",
       "    </tr>\n",
       "    <tr>\n",
       "      <th>2</th>\n",
       "      <td>calcium</td>\n",
       "      <td>calcium(g)</td>\n",
       "    </tr>\n",
       "    <tr>\n",
       "      <th>3</th>\n",
       "      <td>airtemperature</td>\n",
       "      <td>Air Temperature(K)</td>\n",
       "    </tr>\n",
       "  </tbody>\n",
       "</table>\n",
       "</div>"
      ],
      "text/plain": [
       "         filtered            original\n",
       "0         calcium          calcium(g)\n",
       "1  airtemperature  Air Temperature(K)\n",
       "2         calcium          calcium(g)\n",
       "3  airtemperature  Air Temperature(K)"
      ]
     },
     "execution_count": 70,
     "metadata": {},
     "output_type": "execute_result"
    }
   ],
   "source": [
    "dfa = pd.DataFrame(variablesTable)\n",
    "dfa"
   ]
  },
  {
   "cell_type": "code",
   "execution_count": null,
   "metadata": {},
   "outputs": [],
   "source": [
    "#Run this to create a txt file and store the list\n",
    "with open('variables.txt', 'w') as fp:\n",
    "    fp.write('\\n'.join('%s %s' % x for x in d_sorted1))"
   ]
  }
 ],
 "metadata": {
  "kernelspec": {
   "display_name": "Python 2",
   "language": "python",
   "name": "python2"
  },
  "language_info": {
   "codemirror_mode": {
    "name": "ipython",
    "version": 2
   },
   "file_extension": ".py",
   "mimetype": "text/x-python",
   "name": "python",
   "nbconvert_exporter": "python",
   "pygments_lexer": "ipython2",
   "version": "2.7.12"
  }
 },
 "nbformat": 4,
 "nbformat_minor": 2
}
