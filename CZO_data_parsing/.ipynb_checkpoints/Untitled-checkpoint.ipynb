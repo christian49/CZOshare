{
 "cells": [
  {
   "cell_type": "code",
   "execution_count": 4,
   "metadata": {},
   "outputs": [],
   "source": [
    "words = ['a', 'b', 'a', 'c', 'd']\n",
    "stopwords = ['a']\n",
    "for word in list(words):  # iterating on a copy since removing will mess things up\n",
    "    if word in stopwords:\n",
    "        words.remove(word)"
   ]
  },
  {
   "cell_type": "code",
   "execution_count": 89,
   "metadata": {},
   "outputs": [
    {
     "data": {
      "text/plain": [
       "'carbom dissolved'"
      ]
     },
     "execution_count": 89,
     "metadata": {},
     "output_type": "execute_result"
    }
   ],
   "source": [
    "import re\n",
    "\n",
    "string = \"   carbom, dissolved     \"\n",
    "cleanString = re.sub('\\s*$','',string)\n",
    "cleanString = re.sub('^\\s*','',cleanString)\n",
    "cleanString = re.sub('[^a-zA-Z\\s]','',cleanString)\n",
    "cleanString"
   ]
  }
 ],
 "metadata": {
  "kernelspec": {
   "display_name": "Python 2",
   "language": "python",
   "name": "python2"
  },
  "language_info": {
   "codemirror_mode": {
    "name": "ipython",
    "version": 2
   },
   "file_extension": ".py",
   "mimetype": "text/x-python",
   "name": "python",
   "nbconvert_exporter": "python",
   "pygments_lexer": "ipython2",
   "version": "2.7.12"
  }
 },
 "nbformat": 4,
 "nbformat_minor": 2
}
