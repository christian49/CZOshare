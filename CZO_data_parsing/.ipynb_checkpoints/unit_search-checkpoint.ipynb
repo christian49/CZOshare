{
 "cells": [
  {
   "cell_type": "code",
   "execution_count": 1,
   "metadata": {},
   "outputs": [],
   "source": [
    "import pandas as pd\n",
    "import re\n",
    "pd.set_option('display.max_colwidth', 500)\n",
    "pd.set_option('display.max_rows', 4000)\n",
    "pd.set_option('display.max_columns', 100)"
   ]
  },
  {
   "cell_type": "code",
   "execution_count": 2,
   "metadata": {},
   "outputs": [],
   "source": [
    "df = pd.read_csv(\"/home/christian/Downloads/wczo_id-modified-mcl.csv\")\n",
    "df = pd.read_csv(\"wczo_id-modified-mcl.csv\")\n",
    "\n",
    "# key = df['VARIABLES']\n",
    "# czo_id = df['czo_id']\n",
    "key = df['Column']\n",
    "czo_id = df['5486']\n",
    "variables = []\n",
    "d2 = []\n"
   ]
  },
  {
   "cell_type": "code",
   "execution_count": 3,
   "metadata": {},
   "outputs": [],
   "source": [
    "for i in range(0,len(key)):\n",
    "    k = key[i]\n",
    "    startingSpacesRemoved = re.sub('\\s*$','',k)\n",
    "    endingSpacesRemoved = re.sub('^\\s*','',startingSpacesRemoved)\n",
    "    \n",
    "    variables.append((endingSpacesRemoved,czo_id[i]))\n",
    "    d2.append(endingSpacesRemoved)"
   ]
  },
  {
   "cell_type": "code",
   "execution_count": 6,
   "metadata": {},
   "outputs": [],
   "source": [
    "\n",
    "# d2=[]\n",
    "# for i in range(len(newList)):\n",
    "#     d2.append(newList[i][0])"
   ]
  },
  {
   "cell_type": "code",
   "execution_count": 7,
   "metadata": {},
   "outputs": [
    {
     "data": {
      "text/plain": [
       "1878"
      ]
     },
     "execution_count": 7,
     "metadata": {},
     "output_type": "execute_result"
    }
   ],
   "source": [
    "len(d2)"
   ]
  },
  {
   "cell_type": "code",
   "execution_count": 8,
   "metadata": {
    "scrolled": true
   },
   "outputs": [
    {
     "data": {
      "text/plain": [
       "['aluminum ugml',\n",
       " 'ba ugml',\n",
       " 'calcium ugml',\n",
       " 'iron ugml',\n",
       " 'potassium ugml',\n",
       " 'magnesium ugml',\n",
       " 'manganese ugml',\n",
       " 'sodium ugml',\n",
       " 'nickel ugml',\n",
       " 'phosphorus ugml',\n",
       " 'silicon ugml',\n",
       " 'strontium ugml',\n",
       " 'titanium ugml',\n",
       " 'zinc ugml']"
      ]
     },
     "execution_count": 8,
     "metadata": {},
     "output_type": "execute_result"
    }
   ],
   "source": [
    "\n",
    "unit = ''\n",
    "items = []\n",
    "for i in range(len(d2)):\n",
    "    if unit in d2[i]:\n",
    "        items.append(d2[i])\n",
    "items\n"
   ]
  },
  {
   "cell_type": "code",
   "execution_count": 9,
   "metadata": {},
   "outputs": [],
   "source": [
    "skip = []\n",
    "\n",
    "for i in range(len(skip)):\n",
    "    for j in range(len(items)):\n",
    "               \n",
    "        if skip[i] in items[j]:\n",
    "            del items[j]\n",
    "            break"
   ]
  },
  {
   "cell_type": "code",
   "execution_count": 10,
   "metadata": {},
   "outputs": [],
   "source": [
    "replaceWith = 'microgram per mililiter'\n",
    "for i in range(len(items)):\n",
    "    for j in range(len(d2)):\n",
    "        if items[i] == d2[j]:\n",
    "            varModified = re.sub(unit,replaceWith,d2[j])\n",
    "            d2[j] = varModified\n",
    "            break"
   ]
  },
  {
   "cell_type": "code",
   "execution_count": 11,
   "metadata": {},
   "outputs": [],
   "source": [
    "newList=[]\n",
    "for i in range(len(variables)):\n",
    "    newList.append((d2[i], variables[i][1]))\n",
    "    "
   ]
  }
 ],
 "metadata": {
  "kernelspec": {
   "display_name": "Python 2",
   "language": "python",
   "name": "python2"
  },
  "language_info": {
   "codemirror_mode": {
    "name": "ipython",
    "version": 2
   },
   "file_extension": ".py",
   "mimetype": "text/x-python",
   "name": "python",
   "nbconvert_exporter": "python",
   "pygments_lexer": "ipython2",
   "version": "2.7.12"
  }
 },
 "nbformat": 4,
 "nbformat_minor": 2
}
