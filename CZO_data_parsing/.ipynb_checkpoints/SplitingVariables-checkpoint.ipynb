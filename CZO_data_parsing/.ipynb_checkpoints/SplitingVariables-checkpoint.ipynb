{
 "cells": [
  {
   "cell_type": "code",
   "execution_count": 1,
   "metadata": {},
   "outputs": [],
   "source": [
    "import pandas as pd\n",
    "import re\n",
    "pd.set_option('display.max_colwidth', 50)\n",
    "pd.set_option('display.max_rows', 4000)\n",
    "pd.set_option('display.max_columns', 100)\n"
   ]
  },
  {
   "cell_type": "code",
   "execution_count": 2,
   "metadata": {},
   "outputs": [],
   "source": [
    "df = pd.read_csv(\"wczo_id-modified-mcl.csv\")\n",
    "key = df['Column']\n",
    "czo_id = df['5486']\n",
    "variables = []\n",
    "variablesId = []\n",
    "df1 = pd.DataFrame(columns=['Variable','Unit','Aggregations'])\n",
    "\n",
    "for i in range(0,len(key)):\n",
    "    k = key[i]\n",
    "    startingSpacesRemoved = re.sub('\\s*$','',k)\n",
    "    endingSpacesRemoved = re.sub('^\\s*','',startingSpacesRemoved)\n",
    "    pat = re.compile(\" \")\n",
    "    \n",
    "\n",
    "    variablesId.append((endingSpacesRemoved,czo_id[i]))\n",
    "    variables.append(pat.split(endingSpacesRemoved))"
   ]
  },
  {
   "cell_type": "code",
   "execution_count": 3,
   "metadata": {},
   "outputs": [],
   "source": [
    "var = \"\"\n",
    "unt = \"\"\n",
    "units = ['umgl',]\n",
    "aggregations = []\n",
    "# for i in range(0,len(variables)):\n",
    "#     row = variables[i]\n",
    "#     rowLength = len(row)\n",
    "    \n",
    "#     for unit in units:\n",
    "        \n",
    "#         for j in range(0,rowLength):\n",
    "#             word = row[j]\n",
    "#             if word == unit:\n",
    "#                 if j == rowLength:\n",
    "#                     unt = word\n",
    "                    \n",
    "#                     for x in range(0,rowLength-1):\n",
    "#                         if var == \"\":\n",
    "#                             var = row[x]\n",
    "#                         else:\n",
    "#                             var = var+\" \"+row[x]\n",
    "\n",
    "#                     break\n",
    "#                 else:\n",
    "#                     for x in range(0,rowLength-1):\n",
    "#                         if var == \"\":\n",
    "#                             var = row[x]\n",
    "#                         else:\n",
    "#                             var = var+\" \"+row[x]\n",
    "#                     for y in range(rowLength+1,rowLength):\n",
    "#                         if var == \"\":\n",
    "#                             var = row[y]\n",
    "#                         else:\n",
    "#                             var = var+\" \"+row[y]\n",
    "\n",
    "#                     break\n",
    "#             if j == rowLength and unt == \"\":\n",
    "#                 for x in range(0,rowLength):\n",
    "#                         if var == \"\":\n",
    "#                             var = row[x]\n",
    "#                         else:\n",
    "#                             var = var+\" \"+row[x]\n",
    "#                 break\n",
    "                    \n",
    "    \n",
    "#     if unt != \"\":\n",
    "#         df1.loc[i,'Unit'] = unt\n",
    "#         unt = \"\"\n",
    "#         df1.loc[i,'Variable'] = var\n",
    "#         var = \"\"\n",
    "#         break\n",
    "        \n",
    "#     else:\n",
    "#         df1.loc[i,'Variable'] = var\n",
    "#         var = \"\"\n",
    "#         break\n",
    "\n",
    "    \n",
    "    "
   ]
  },
  {
   "cell_type": "code",
   "execution_count": 4,
   "metadata": {},
   "outputs": [
    {
     "data": {
      "text/html": [
       "<div>\n",
       "<style scoped>\n",
       "    .dataframe tbody tr th:only-of-type {\n",
       "        vertical-align: middle;\n",
       "    }\n",
       "\n",
       "    .dataframe tbody tr th {\n",
       "        vertical-align: top;\n",
       "    }\n",
       "\n",
       "    .dataframe thead th {\n",
       "        text-align: right;\n",
       "    }\n",
       "</style>\n",
       "<table border=\"1\" class=\"dataframe\">\n",
       "  <thead>\n",
       "    <tr style=\"text-align: right;\">\n",
       "      <th></th>\n",
       "      <th>Variable</th>\n",
       "      <th>Unit</th>\n",
       "      <th>Aggregations</th>\n",
       "    </tr>\n",
       "  </thead>\n",
       "  <tbody>\n",
       "  </tbody>\n",
       "</table>\n",
       "</div>"
      ],
      "text/plain": [
       "Empty DataFrame\n",
       "Columns: [Variable, Unit, Aggregations]\n",
       "Index: []"
      ]
     },
     "execution_count": 4,
     "metadata": {},
     "output_type": "execute_result"
    }
   ],
   "source": [
    "df1"
   ]
  }
 ],
 "metadata": {
  "kernelspec": {
   "display_name": "Python 2",
   "language": "python",
   "name": "python2"
  },
  "language_info": {
   "codemirror_mode": {
    "name": "ipython",
    "version": 2
   },
   "file_extension": ".py",
   "mimetype": "text/x-python",
   "name": "python",
   "nbconvert_exporter": "python",
   "pygments_lexer": "ipython2",
   "version": "2.7.12"
  }
 },
 "nbformat": 4,
 "nbformat_minor": 2
}
