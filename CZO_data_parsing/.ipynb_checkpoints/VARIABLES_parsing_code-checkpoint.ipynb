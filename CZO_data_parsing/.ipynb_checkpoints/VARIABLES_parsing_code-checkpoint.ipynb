{
 "cells": [
  {
   "cell_type": "code",
   "execution_count": 24,
   "metadata": {},
   "outputs": [],
   "source": [
    "import pandas as pd\n",
    "pd.set_option('display.max_colwidth', 500)\n",
    "pd.set_option('display.max_rows', 4000)\n",
    "pd.set_option('display.max_columns', 100)\n",
    "import matplotlib.pyplot as plt"
   ]
  },
  {
   "cell_type": "code",
   "execution_count": 73,
   "metadata": {},
   "outputs": [],
   "source": [
    "df = pd.read_csv(\"/home/christian/Downloads/czo-datasets-metadata-2018-03-01(c).xlsx - czo-datasets-metadata-2018-03-0(1).csv\")\n",
    "key = df['VARIABLES']\n",
    "keys = []\n",
    "for i in range(0,len(key)):\n",
    "    row = key[i].split('|')\n",
    "    for j in range(0, len(row)):\n",
    "        k = row[j].lower()\n",
    "        k = k.replace(\"-\", \"\")\n",
    "        k = k.replace(\"#\", \"\")\n",
    "        k = k.replace(\" \", \"\")\n",
    "        k = k.replace(\"\\t\",\"\")\n",
    "        k = k.replace(\"(m)\",\"\")\n",
    "        k = k.replace(\"_\", \"\")\n",
    "        keys.append(k)"
   ]
  },
  {
   "cell_type": "code",
   "execution_count": 48,
   "metadata": {},
   "outputs": [
    {
     "data": {
      "text/plain": [
       "3945"
      ]
     },
     "execution_count": 48,
     "metadata": {},
     "output_type": "execute_result"
    }
   ],
   "source": [
    "len(keys)"
   ]
  },
  {
   "cell_type": "code",
   "execution_count": 74,
   "metadata": {},
   "outputs": [],
   "source": [
    "d1 = {}\n",
    "seen=set()\n",
    "count = 0\n",
    "\n",
    "for i in range(len(keys)):\n",
    "    word = keys[i]\n",
    "    if word not in seen:\n",
    "        seen.add(word)\n",
    "        \n",
    "        for j in range(len(keys)):\n",
    "            a_duplicate = keys[j]\n",
    "            if (word == a_duplicate):\n",
    "                count += 1   \n",
    "                \n",
    "        d1[word] = count\n",
    "        count =0\n",
    "        \n",
    "d_sorted1 = sorted(d1.items(), key=lambda x: (-x[1], x[0]))"
   ]
  },
  {
   "cell_type": "code",
   "execution_count": 75,
   "metadata": {},
   "outputs": [],
   "source": [
    "#Run this to create a txt file and store the list\n",
    "with open('variables.txt', 'w') as fp:\n",
    "    fp.write('\\n'.join('%s %s' % x for x in d_sorted1))"
   ]
  }
 ],
 "metadata": {
  "kernelspec": {
   "display_name": "Python 2",
   "language": "python",
   "name": "python2"
  },
  "language_info": {
   "codemirror_mode": {
    "name": "ipython",
    "version": 2
   },
   "file_extension": ".py",
   "mimetype": "text/x-python",
   "name": "python",
   "nbconvert_exporter": "python",
   "pygments_lexer": "ipython2",
   "version": "2.7.12"
  }
 },
 "nbformat": 4,
 "nbformat_minor": 2
}
