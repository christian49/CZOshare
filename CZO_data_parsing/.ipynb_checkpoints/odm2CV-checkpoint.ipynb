{
 "cells": [
  {
   "cell_type": "code",
   "execution_count": 92,
   "metadata": {},
   "outputs": [],
   "source": [
    "import pandas as pd\n",
    "import numpy as np\n",
    "pd.set_option('display.max_colwidth', 3950)\n",
    "pd.set_option('display.max_rows', 3950)\n",
    "pd.set_option('display.max_columns', 3950)"
   ]
  },
  {
   "cell_type": "code",
   "execution_count": 63,
   "metadata": {},
   "outputs": [],
   "source": [
    "df1 = pd.read_csv(\"/home/christian/Downloads/odmCV/actiontype.csv\")\n",
    "df2 = pd.read_csv(\"/home/christian/Downloads/odmCV/aggregationstatistic.csv\")\n",
    "df3 = pd.read_csv(\"/home/christian/Downloads/odmCV/annotationtype.csv\")\n",
    "df4 = pd.read_csv(\"/home/christian/Downloads/odmCV/censorcode.csv\")\n",
    "df5 = pd.read_csv(\"/home/christian/Downloads/odmCV/dataqualitytype.csv\")\n",
    "df6 = pd.read_csv(\"/home/christian/Downloads/odmCV/datasettype.csv\")\n",
    "df7 = pd.read_csv(\"/home/christian/Downloads/odmCV/directivetype.csv\")\n",
    "df8 = pd.read_csv(\"/home/christian/Downloads/odmCV/elevationdatum.csv\")\n",
    "df9 = pd.read_csv(\"/home/christian/Downloads/odmCV/equipmenttype.csv\")\n",
    "df10 = pd.read_csv(\"/home/christian/Downloads/odmCV/medium.csv\")\n",
    "df11 = pd.read_csv(\"/home/christian/Downloads/odmCV/methodtype.csv\")\n",
    "df12 = pd.read_csv(\"/home/christian/Downloads/odmCV/organizationtype.csv\")\n",
    "df13 = pd.read_csv(\"/home/christian/Downloads/odmCV/propertydatatype.csv\")\n",
    "df14 = pd.read_csv(\"/home/christian/Downloads/odmCV/qualitycode.csv\")\n",
    "df15 = pd.read_csv(\"/home/christian/Downloads/odmCV/relationshiptype.csv\")\n",
    "df16 = pd.read_csv(\"/home/christian/Downloads/odmCV/resulttype.csv\")\n",
    "df17 = pd.read_csv(\"/home/christian/Downloads/odmCV/samplingfeaturegeotype.csv\")\n",
    "df18 = pd.read_csv(\"/home/christian/Downloads/odmCV/samplingfeaturetype.csv\")\n",
    "df19 = pd.read_csv(\"/home/christian/Downloads/odmCV/sitetype.csv\")\n",
    "df20 = pd.read_csv(\"/home/christian/Downloads/odmCV/spatialoffsettype.csv\")\n",
    "df21 = pd.read_csv(\"/home/christian/Downloads/odmCV/speciation.csv\")\n",
    "df22 = pd.read_csv(\"/home/christian/Downloads/odmCV/specimentype.csv\")\n",
    "df23 = pd.read_csv(\"/home/christian/Downloads/odmCV/status.csv\")\n",
    "df24 = pd.read_csv(\"/home/christian/Downloads/odmCV/taxonomicclassifiertype.csv\")\n",
    "df25 = pd.read_csv(\"/home/christian/Downloads/odmCV/unitstype.csv\")\n",
    "df26 = pd.read_csv(\"/home/christian/Downloads/variablename.csv\")\n",
    "\n",
    "df27 = pd.read_csv(\"/home/christian/Downloads/odmCV/variabletype.csv\")\n",
    "\n"
   ]
  },
  {
   "cell_type": "code",
   "execution_count": 64,
   "metadata": {},
   "outputs": [],
   "source": [
    "#array=[df1,df2,df3,df4,df5,df6,df7,df8,df9,df10,df11,df12,df13,df14,df15,df16,df17,df18,df19,df20,df21,df22,df23,df24,df25,df26,df27]\n",
    "array=[df26]\n",
    "odmCV = []\n",
    "for i in range(0,len(array)):\n",
    "    column= array[i]['name']\n",
    "    for j in range(0,len(column)):\n",
    "        k = column[j].lower()\n",
    "        k = k.replace(\"-\", \"\")\n",
    "        k = k.replace(\"#\", \"\")\n",
    "        k = k.replace(\" \", \"\")\n",
    "        k = k.replace(\"\\t\",\"\")\n",
    "        k = k.replace(\",\",\"\")\n",
    "        k = k.replace(\"_\", \"\")\n",
    "        odmCV.append(k)"
   ]
  },
  {
   "cell_type": "code",
   "execution_count": 66,
   "metadata": {},
   "outputs": [],
   "source": [
    "df = pd.read_csv(\"/home/christian/Downloads/czo-datasets-metadata-2018-03-01(c).xlsx - czo-datasets-metadata-2018-03-0(1).csv\")\n"
   ]
  },
  {
   "cell_type": "code",
   "execution_count": 67,
   "metadata": {},
   "outputs": [],
   "source": [
    "key = df['VARIABLES']\n",
    "keys = []\n",
    "for i in range(0,len(key)):\n",
    "    row = key[i].split('|')\n",
    "    for j in range(0, len(row)):\n",
    "        k = row[j].lower()\n",
    "        k = k.replace(\"-\", \"\")\n",
    "        k = k.replace(\"#\", \"\")\n",
    "        k = k.replace(\" \", \"\")\n",
    "        k = k.replace(\"\\t\",\"\")\n",
    "        #k = k.replace(\"(m)\",\"\")\n",
    "        k = k.replace(\"_\", \"\")\n",
    "        keys.append(k)"
   ]
  },
  {
   "cell_type": "code",
   "execution_count": 116,
   "metadata": {},
   "outputs": [],
   "source": [
    "d1 = {}\n",
    "seen=set()\n",
    "count = 0\n",
    "\n",
    "for i in range(len(keys)):\n",
    "    word = keys[i]\n",
    "    if word not in seen:\n",
    "        seen.add(word)\n",
    "        \n",
    "        for j in range(len(keys)):\n",
    "            a_duplicate = keys[j]\n",
    "            if (word == a_duplicate):\n",
    "                count += 1   \n",
    "                \n",
    "        d1[word] = count\n",
    "        count =0\n",
    "variables_sorted1 = sorted(d1.items(), key=lambda x: (-x[1], x[0]))\n",
    "variables = [i[0] for i in d_sorted1]"
   ]
  },
  {
   "cell_type": "code",
   "execution_count": 117,
   "metadata": {},
   "outputs": [
    {
     "data": {
      "text/plain": [
       "1861"
      ]
     },
     "execution_count": 117,
     "metadata": {},
     "output_type": "execute_result"
    }
   ],
   "source": [
    "len(variables_sorted1)"
   ]
  },
  {
   "cell_type": "code",
   "execution_count": 118,
   "metadata": {},
   "outputs": [],
   "source": [
    "d={}\n",
    "count = 0\n",
    "counter = 0\n",
    "for i in range(0,len(odmCV)):\n",
    "    for j in range(0,len(variables)):\n",
    "        if odmCV[i] == variables[j]:\n",
    "            count += 1\n",
    "            \n",
    "    d[odmCV[i]] = count\n",
    "    counter += count\n",
    "    count = 0\n",
    "    \n",
    "ODM2var_sorted = sorted(d.items(), key=lambda x: (-x[1], x[0]))"
   ]
  },
  {
   "cell_type": "code",
   "execution_count": 119,
   "metadata": {},
   "outputs": [],
   "source": [
    "match={}\n",
    "for i in d_sorted:\n",
    "    if i[1] >= 1:\n",
    "        match[i[0]] = d1[i[0]]\n",
    "\n",
    "match_sorted = sorted(match.items(), key=lambda x: (-x[1], x[0]))\n",
    "\n",
    "notMatch = [item for item in d_sorted1 if item not in match_sorted]\n",
    "\n"
   ]
  },
  {
   "cell_type": "code",
   "execution_count": 110,
   "metadata": {},
   "outputs": [],
   "source": [
    "with open('ODM2vsCZO_non-matching_variables.txt', 'w') as fp:\n",
    "    fp.write('\\n'.join('%s %s' % x for x in notMatch))"
   ]
  }
 ],
 "metadata": {
  "kernelspec": {
   "display_name": "Python 2",
   "language": "python",
   "name": "python2"
  },
  "language_info": {
   "codemirror_mode": {
    "name": "ipython",
    "version": 2
   },
   "file_extension": ".py",
   "mimetype": "text/x-python",
   "name": "python",
   "nbconvert_exporter": "python",
   "pygments_lexer": "ipython2",
   "version": "2.7.12"
  }
 },
 "nbformat": 4,
 "nbformat_minor": 2
}
