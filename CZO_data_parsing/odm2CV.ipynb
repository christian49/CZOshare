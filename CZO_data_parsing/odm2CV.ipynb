{
 "cells": [
  {
   "cell_type": "code",
   "execution_count": 2,
   "metadata": {},
   "outputs": [],
   "source": [
    "import pandas as pd\n",
    "pd.set_option('display.max_colwidth', 3950)\n",
    "pd.set_option('display.max_rows', 3950)\n",
    "pd.set_option('display.max_columns', 3950)"
   ]
  },
  {
   "cell_type": "code",
   "execution_count": 3,
   "metadata": {},
   "outputs": [],
   "source": [
    "df1 = pd.read_csv(\"/home/christian/Downloads/odmCV/actiontype.csv\")\n",
    "df2 = pd.read_csv(\"/home/christian/Downloads/odmCV/aggregationstatistic.csv\")\n",
    "df3 = pd.read_csv(\"/home/christian/Downloads/odmCV/annotationtype.csv\")\n",
    "df4 = pd.read_csv(\"/home/christian/Downloads/odmCV/censorcode.csv\")\n",
    "df5 = pd.read_csv(\"/home/christian/Downloads/odmCV/dataqualitytype.csv\")\n",
    "df6 = pd.read_csv(\"/home/christian/Downloads/odmCV/datasettype.csv\")\n",
    "df7 = pd.read_csv(\"/home/christian/Downloads/odmCV/directivetype.csv\")\n",
    "df8 = pd.read_csv(\"/home/christian/Downloads/odmCV/elevationdatum.csv\")\n",
    "df9 = pd.read_csv(\"/home/christian/Downloads/odmCV/equipmenttype.csv\")\n",
    "df10 = pd.read_csv(\"/home/christian/Downloads/odmCV/medium.csv\")\n",
    "df11 = pd.read_csv(\"/home/christian/Downloads/odmCV/methodtype.csv\")\n",
    "df12 = pd.read_csv(\"/home/christian/Downloads/odmCV/organizationtype.csv\")\n",
    "df13 = pd.read_csv(\"/home/christian/Downloads/odmCV/propertydatatype.csv\")\n",
    "df14 = pd.read_csv(\"/home/christian/Downloads/odmCV/qualitycode.csv\")\n",
    "df15 = pd.read_csv(\"/home/christian/Downloads/odmCV/relationshiptype.csv\")\n",
    "df16 = pd.read_csv(\"/home/christian/Downloads/odmCV/resulttype.csv\")\n",
    "df17 = pd.read_csv(\"/home/christian/Downloads/odmCV/samplingfeaturegeotype.csv\")\n",
    "df18 = pd.read_csv(\"/home/christian/Downloads/odmCV/samplingfeaturetype.csv\")\n",
    "df19 = pd.read_csv(\"/home/christian/Downloads/odmCV/sitetype.csv\")\n",
    "df20 = pd.read_csv(\"/home/christian/Downloads/odmCV/spatialoffsettype.csv\")\n",
    "df21 = pd.read_csv(\"/home/christian/Downloads/odmCV/speciation.csv\")\n",
    "df22 = pd.read_csv(\"/home/christian/Downloads/odmCV/specimentype.csv\")\n",
    "df23 = pd.read_csv(\"/home/christian/Downloads/odmCV/status.csv\")\n",
    "df24 = pd.read_csv(\"/home/christian/Downloads/odmCV/taxonomicclassifiertype.csv\")\n",
    "df25 = pd.read_csv(\"/home/christian/Downloads/odmCV/unitstype.csv\")\n",
    "df26 = pd.read_csv(\"/home/christian/Downloads/variablename.csv\")\n",
    "\n",
    "df27 = pd.read_csv(\"/home/christian/Downloads/odmCV/variabletype.csv\")\n",
    "\n"
   ]
  },
  {
   "cell_type": "code",
   "execution_count": 4,
   "metadata": {},
   "outputs": [],
   "source": [
    "#array=[df1,df2,df3,df4,df5,df6,df7,df8,df9,df10,df11,df12,df13,df14,df15,df16,df17,df18,df19,df20,df21,df22,df23,df24,df25,df26,df27]\n",
    "array=[df26]\n",
    "odmCV = []\n",
    "for i in range(0,len(array)):\n",
    "    column= array[i]['name']\n",
    "    for j in range(0,len(column)):\n",
    "        k = column[j].lower()\n",
    "        #k = k.replace(\"-\", \"\")\n",
    "        #k = k.replace(\"#\", \"\")uuu\n",
    "        #k = k.replace(\" \", \"\")\n",
    "        #k = k.replace(\"\\t\",\"\")\n",
    "        #k = k.replace(\",\",\"\")\n",
    "        #k = k.replace(\"_\", \"\")\n",
    "        odmCV.append(k)"
   ]
  },
  {
   "cell_type": "code",
   "execution_count": 82,
   "metadata": {},
   "outputs": [],
   "source": [
    "df = pd.read_csv(\"/home/christian/Downloads/czo-datasets-metadata-2018-03-01c.csv\")\n"
   ]
  },
  {
   "cell_type": "code",
   "execution_count": 61,
   "metadata": {},
   "outputs": [
    {
     "name": "stdout",
     "output_type": "stream",
     "text": [
      "hi\n"
     ]
    }
   ],
   "source": [
    "\n",
    "#Test \n",
    "key = df['VARIABLES']\n",
    "keys = []\n",
    "\n",
    "row = key[0].split('|')\n",
    "\n",
    "if row[0] == row[0].replace(\"p\",\"\"):\n",
    "    print(\"hi\")\n",
    "\n"
   ]
  },
  {
   "cell_type": "code",
   "execution_count": 69,
   "metadata": {},
   "outputs": [],
   "source": [
    "key = df['VARIABLES']\n",
    "keys = []\n",
    "\n",
    "for i in range(0,len(key)):\n",
    "    row = key[i].split('|')\n",
    "    for j in range(0, len(row)):\n",
    "        k = row[j].lower()\n",
    "        k = k.replace(\"-\", \"\")\n",
    "        k = k.replace(\"#\", \"\")\n",
    "        k = k.replace(\" \", \"\")\n",
    "        k = k.replace(\"\\t\",\"\")\n",
    "        k = k.replace(\"(m)\",\"\")\n",
    "        k = k.replace(\"(g)\",\"\")\n",
    "        k = k.replace(\"(%)\",\"\")\n",
    "        k = k.replace(\"_\", \"\")\n",
    "        keys.append(k)"
   ]
  },
  {
   "cell_type": "code",
   "execution_count": 32,
   "metadata": {},
   "outputs": [
    {
     "data": {
      "text/plain": [
       "3945"
      ]
     },
     "execution_count": 32,
     "metadata": {},
     "output_type": "execute_result"
    }
   ],
   "source": [
    "len(keys)"
   ]
  },
  {
   "cell_type": "code",
   "execution_count": 70,
   "metadata": {},
   "outputs": [],
   "source": [
    "d1 = {}\n",
    "seen=set()\n",
    "count = 0\n",
    "\n",
    "#Removing duplicates\n",
    "for i in range(len(keys)):\n",
    "    word = keys[i]\n",
    "    if word not in seen:\n",
    "        seen.add(word)\n",
    "        \n",
    "        for j in range(len(keys)):\n",
    "            a_duplicate = keys[j]\n",
    "            if (word == a_duplicate):\n",
    "                count += 1   \n",
    "                \n",
    "        d1[word] = count\n",
    "        count =0\n",
    "variables_sorted1 = sorted(d1.items(), key=lambda x: (-x[1], x[0]))\n",
    "variables = [i[0] for i in variables_sorted1]"
   ]
  },
  {
   "cell_type": "code",
   "execution_count": 71,
   "metadata": {},
   "outputs": [],
   "source": [
    "d={}\n",
    "\n",
    "count = 0\n",
    "counter = 0\n",
    "\n",
    "#comparing CZO variables with ODM variables\n",
    "for i in range(0,len(odmCV)):\n",
    "    for j in range(0,len(variables)):\n",
    "        if odmCV[i] == variables[j]:\n",
    "            count += 1\n",
    "            \n",
    "    d[odmCV[i]] = count\n",
    "    counter += count\n",
    "    count = 0\n",
    "    \n",
    "ODM2var_sorted = sorted(d.items(), key=lambda x: (-x[1], x[0]))"
   ]
  },
  {
   "cell_type": "code",
   "execution_count": 72,
   "metadata": {},
   "outputs": [],
   "source": [
    "match={}\n",
    "for i in ODM2var_sorted:\n",
    "    if i[1] >= 1:\n",
    "        match[i[0]] = d1[i[0]]\n",
    "\n",
    "match_sorted = sorted(match.items(), key=lambda x: (-x[1], x[0]))\n",
    "\n",
    "notMatch = [item for item in variables_sorted1 if item not in match_sorted]\n",
    "\n"
   ]
  },
  {
   "cell_type": "code",
   "execution_count": 7,
   "metadata": {},
   "outputs": [
    {
     "ename": "NameError",
     "evalue": "name 'notMatch' is not defined",
     "output_type": "error",
     "traceback": [
      "\u001b[0;31m---------------------------------------------------------------------------\u001b[0m",
      "\u001b[0;31mNameError\u001b[0m                                 Traceback (most recent call last)",
      "\u001b[0;32m<ipython-input-7-254fd1679725>\u001b[0m in \u001b[0;36m<module>\u001b[0;34m()\u001b[0m\n\u001b[1;32m      1\u001b[0m \u001b[0;32mwith\u001b[0m \u001b[0mopen\u001b[0m\u001b[0;34m(\u001b[0m\u001b[0;34m'ODM2vsCZO_non-matching_variables.txt'\u001b[0m\u001b[0;34m,\u001b[0m \u001b[0;34m'w'\u001b[0m\u001b[0;34m)\u001b[0m \u001b[0;32mas\u001b[0m \u001b[0mfp\u001b[0m\u001b[0;34m:\u001b[0m\u001b[0;34m\u001b[0m\u001b[0m\n\u001b[0;32m----> 2\u001b[0;31m     \u001b[0mfp\u001b[0m\u001b[0;34m.\u001b[0m\u001b[0mwrite\u001b[0m\u001b[0;34m(\u001b[0m\u001b[0;34m'\\n'\u001b[0m\u001b[0;34m.\u001b[0m\u001b[0mjoin\u001b[0m\u001b[0;34m(\u001b[0m\u001b[0;34m'%s %s'\u001b[0m \u001b[0;34m%\u001b[0m \u001b[0mx\u001b[0m \u001b[0;32mfor\u001b[0m \u001b[0mx\u001b[0m \u001b[0;32min\u001b[0m \u001b[0mnotMatch\u001b[0m\u001b[0;34m)\u001b[0m\u001b[0;34m)\u001b[0m\u001b[0;34m\u001b[0m\u001b[0m\n\u001b[0m",
      "\u001b[0;31mNameError\u001b[0m: name 'notMatch' is not defined"
     ]
    }
   ],
   "source": [
    "with open('ODM2vsCZO_non-matching_variables.txt', 'w') as fp:\n",
    "    fp.write('\\n'.join('%s %s' % x for x in notMatch))"
   ]
  },
  {
   "cell_type": "code",
   "execution_count": 9,
   "metadata": {},
   "outputs": [],
   "source": [
    "\n",
    "import csv\n",
    "\n",
    "with open(\"odmCV.csv\", 'wb') as myfile:\n",
    "    wr = csv.writer(myfile, quoting=csv.QUOTE_ALL)\n",
    "    wr.writerow(odmCV)\n",
    "\n"
   ]
  }
 ],
 "metadata": {
  "kernelspec": {
   "display_name": "Python 2",
   "language": "python",
   "name": "python2"
  },
  "language_info": {
   "codemirror_mode": {
    "name": "ipython",
    "version": 2
   },
   "file_extension": ".py",
   "mimetype": "text/x-python",
   "name": "python",
   "nbconvert_exporter": "python",
   "pygments_lexer": "ipython2",
   "version": "2.7.12"
  }
 },
 "nbformat": 4,
 "nbformat_minor": 2
}
